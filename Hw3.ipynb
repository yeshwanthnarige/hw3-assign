{
  "nbformat": 4,
  "nbformat_minor": 0,
  "metadata": {
    "colab": {
      "provenance": [],
      "gpuType": "T4"
    },
    "kernelspec": {
      "name": "python3",
      "display_name": "Python 3"
    },
    "language_info": {
      "name": "python"
    },
    "accelerator": "GPU"
  },
  "cells": [
    {
      "cell_type": "code",
      "execution_count": 1,
      "metadata": {
        "colab": {
          "base_uri": "https://localhost:8080/",
          "height": 1000
        },
        "id": "45W1I-A8YxfE",
        "outputId": "0655a191-79e2-4cde-f3f9-f91204daf4ea"
      },
      "outputs": [
        {
          "output_type": "stream",
          "name": "stdout",
          "text": [
            "Downloading data from https://storage.googleapis.com/tensorflow/tf-keras-datasets/mnist.npz\n",
            "\u001b[1m11490434/11490434\u001b[0m \u001b[32m━━━━━━━━━━━━━━━━━━━━\u001b[0m\u001b[37m\u001b[0m \u001b[1m0s\u001b[0m 0us/step\n",
            "Epoch 1/20\n",
            "235/235 - 5s - 19ms/step - loss: 0.2773 - val_loss: 0.1921\n",
            "Epoch 2/20\n",
            "235/235 - 2s - 9ms/step - loss: 0.1723 - val_loss: 0.1538\n",
            "Epoch 3/20\n",
            "235/235 - 1s - 3ms/step - loss: 0.1442 - val_loss: 0.1336\n",
            "Epoch 4/20\n",
            "235/235 - 1s - 6ms/step - loss: 0.1287 - val_loss: 0.1216\n",
            "Epoch 5/20\n",
            "235/235 - 1s - 3ms/step - loss: 0.1184 - val_loss: 0.1131\n",
            "Epoch 6/20\n",
            "235/235 - 1s - 5ms/step - loss: 0.1113 - val_loss: 0.1072\n",
            "Epoch 7/20\n",
            "235/235 - 1s - 5ms/step - loss: 0.1062 - val_loss: 0.1030\n",
            "Epoch 8/20\n",
            "235/235 - 1s - 5ms/step - loss: 0.1025 - val_loss: 0.0998\n",
            "Epoch 9/20\n",
            "235/235 - 1s - 3ms/step - loss: 0.0998 - val_loss: 0.0974\n",
            "Epoch 10/20\n",
            "235/235 - 1s - 5ms/step - loss: 0.0978 - val_loss: 0.0958\n",
            "Epoch 11/20\n",
            "235/235 - 1s - 4ms/step - loss: 0.0964 - val_loss: 0.0947\n",
            "Epoch 12/20\n",
            "235/235 - 1s - 6ms/step - loss: 0.0955 - val_loss: 0.0940\n",
            "Epoch 13/20\n",
            "235/235 - 1s - 4ms/step - loss: 0.0949 - val_loss: 0.0933\n",
            "Epoch 14/20\n",
            "235/235 - 1s - 5ms/step - loss: 0.0945 - val_loss: 0.0930\n",
            "Epoch 15/20\n",
            "235/235 - 1s - 3ms/step - loss: 0.0942 - val_loss: 0.0928\n",
            "Epoch 16/20\n",
            "235/235 - 1s - 5ms/step - loss: 0.0940 - val_loss: 0.0926\n",
            "Epoch 17/20\n",
            "235/235 - 1s - 5ms/step - loss: 0.0938 - val_loss: 0.0924\n",
            "Epoch 18/20\n",
            "235/235 - 1s - 3ms/step - loss: 0.0937 - val_loss: 0.0923\n",
            "Epoch 19/20\n",
            "235/235 - 1s - 5ms/step - loss: 0.0936 - val_loss: 0.0922\n",
            "Epoch 20/20\n",
            "235/235 - 1s - 5ms/step - loss: 0.0934 - val_loss: 0.0922\n",
            "\u001b[1m1/1\u001b[0m \u001b[32m━━━━━━━━━━━━━━━━━━━━\u001b[0m\u001b[37m\u001b[0m \u001b[1m0s\u001b[0m 227ms/step\n"
          ]
        },
        {
          "output_type": "display_data",
          "data": {
            "text/plain": [
              "<Figure size 2000x400 with 20 Axes>"
            ],
            "image/png": "[encoded data removed]"
          },
          "metadata": {}
        },
        {
          "output_type": "execute_result",
          "data": {
            "text/plain": [
              "<keras.src.callbacks.history.History at 0x7cde5c3ff4d0>"
            ]
          },
          "metadata": {},
          "execution_count": 1
        }
      ],
      "source": [
        "import numpy as np\n",
        "import matplotlib.pyplot as plt\n",
        "from tensorflow.keras.datasets import mnist\n",
        "from tensorflow.keras.models import Model\n",
        "from tensorflow.keras.layers import Input, Dense\n",
        "from tensorflow.keras.losses import BinaryCrossentropy\n",
        "from tensorflow.keras.optimizers import Adam\n",
        "\n",
        "# 1. Load & preprocess MNIST\n",
        "(x_train, _), (x_test, _) = mnist.load_data()\n",
        "x_train = x_train.reshape(-1, 784).astype(\"float32\") / 255.0\n",
        "x_test  = x_test.reshape(-1, 784).astype(\"float32\") / 255.0\n",
        "\n",
        "def build_autoencoder(latent_dim):\n",
        "    # 2. Define encoder\n",
        "    input_img = Input(shape=(784,))\n",
        "    encoded   = Dense(latent_dim, activation=\"relu\")(input_img)\n",
        "    # 2. Define decoder\n",
        "    decoded   = Dense(784, activation=\"sigmoid\")(encoded)\n",
        "    # full autoencoder\n",
        "    autoenc   = Model(input_img, decoded, name=f\"ae_{latent_dim}\")\n",
        "    return autoenc\n",
        "\n",
        "def train_and_plot(latent_dim, epochs=20, batch_size=256):\n",
        "    autoenc = build_autoencoder(latent_dim)\n",
        "    autoenc.compile(optimizer=Adam(), loss=BinaryCrossentropy())\n",
        "\n",
        "    # 3. Train\n",
        "    history = autoenc.fit(\n",
        "        x_train, x_train,\n",
        "        epochs=epochs,\n",
        "        batch_size=batch_size,\n",
        "        shuffle=True,\n",
        "        validation_data=(x_test, x_test),\n",
        "        verbose=2\n",
        "    )\n",
        "\n",
        "    # 4. Plot original vs. reconstruction\n",
        "    decoded_images = autoenc.predict(x_test[:10])\n",
        "\n",
        "    plt.figure(figsize=(20, 4))\n",
        "    for i in range(10):\n",
        "        # original\n",
        "        ax = plt.subplot(2, 10, i+1)\n",
        "        plt.imshow(x_test[i].reshape(28,28), cmap=\"gray\")\n",
        "        plt.axis(\"off\")\n",
        "\n",
        "        # reconstruction\n",
        "        ax = plt.subplot(2, 10, i+1+10)\n",
        "        plt.imshow(decoded_images[i].reshape(28,28), cmap=\"gray\")\n",
        "        plt.axis(\"off\")\n",
        "    plt.suptitle(f\"Latent dim = {latent_dim}\", fontsize=16)\n",
        "    plt.show()\n",
        "\n",
        "    return history\n",
        "\n",
        "# Baseline with latent dimension = 32\n",
        "train_and_plot(latent_dim=32)\n"
      ]
    },
    {
      "cell_type": "code",
      "source": [
        "import numpy as np\n",
        "import matplotlib.pyplot as plt\n",
        "from tensorflow.keras.datasets import mnist\n",
        "from tensorflow.keras.models import Model\n",
        "from tensorflow.keras.layers import Input, Dense\n",
        "from tensorflow.keras.losses import BinaryCrossentropy\n",
        "from tensorflow.keras.optimizers import Adam\n",
        "\n",
        "# 1. Load & normalize MNIST\n",
        "(x_train, _), (x_test, _) = mnist.load_data()\n",
        "x_train = x_train.reshape(-1, 784).astype(\"float32\") / 255.0\n",
        "x_test  = x_test.reshape(-1, 784).astype(\"float32\") / 255.0\n",
        "\n",
        "# Function to add Gaussian noise\n",
        "def add_noise(x, noise_factor=0.5):\n",
        "    noisy = x + noise_factor * np.random.normal(loc=0.0, scale=1.0, size=x.shape)\n",
        "    return np.clip(noisy, 0.0, 1.0)\n",
        "\n",
        "# Build a simple dense autoencoder (same for basic & denoising)\n",
        "def build_autoencoder(latent_dim):\n",
        "    input_img = Input(shape=(784,))\n",
        "    encoded   = Dense(latent_dim, activation=\"relu\")(input_img)\n",
        "    decoded   = Dense(784, activation=\"sigmoid\")(encoded)\n",
        "    return Model(input_img, decoded)\n",
        "\n",
        "# 2/3. Prepare noisy inputs & clean targets\n",
        "x_train_noisy = add_noise(x_train, noise_factor=0.5)\n",
        "x_test_noisy  = add_noise(x_test, noise_factor=0.5)\n",
        "\n",
        "# 3. Instantiate, compile & train the **denoising** autoencoder\n",
        "latent_dim = 32\n",
        "dae = build_autoencoder(latent_dim)\n",
        "dae.compile(optimizer=Adam(), loss=BinaryCrossentropy())\n",
        "history_dae = dae.fit(\n",
        "    x_train_noisy, x_train,        # noisy → clean\n",
        "    epochs=20,\n",
        "    batch_size=256,\n",
        "    shuffle=True,\n",
        "    validation_data=(x_test_noisy, x_test),\n",
        "    verbose=2\n",
        ")\n",
        "\n",
        "# For comparison: train a **basic** autoencoder on clean data\n",
        "bae = build_autoencoder(latent_dim)\n",
        "bae.compile(optimizer=Adam(), loss=BinaryCrossentropy())\n",
        "history_bae = bae.fit(\n",
        "    x_train, x_train,              # clean → clean\n",
        "    epochs=20,\n",
        "    batch_size=256,\n",
        "    shuffle=True,\n",
        "    validation_data=(x_test, x_test),\n",
        "    verbose=2\n",
        ")\n",
        "\n",
        "# 4. Visualize\n",
        "n = 10\n",
        "decoded_dae = dae.predict(x_test_noisy[:n])\n",
        "decoded_bae = bae.predict(x_test[:n])\n",
        "\n",
        "plt.figure(figsize=(18, 6))\n",
        "\n",
        "for i in range(n):\n",
        "    # noisy input\n",
        "    ax = plt.subplot(3, n, i + 1)\n",
        "    plt.imshow(x_test_noisy[i].reshape(28,28), cmap=\"gray\")\n",
        "    plt.axis(\"off\")\n",
        "    if i == 0: ax.set_title(\"Noisy\")\n",
        "\n",
        "    # denoising AE output\n",
        "    ax = plt.subplot(3, n, n + i + 1)\n",
        "    plt.imshow(decoded_dae[i].reshape(28,28), cmap=\"gray\")\n",
        "    plt.axis(\"off\")\n",
        "    if i == 0: ax.set_title(\"Denoised\")\n",
        "\n",
        "    # basic AE output (for reference)\n",
        "    ax = plt.subplot(3, n, 2*n + i + 1)\n",
        "    plt.imshow(decoded_bae[i].reshape(28,28), cmap=\"gray\")\n",
        "    plt.axis(\"off\")\n",
        "    if i == 0: ax.set_title(\"Basic AE\")\n",
        "\n",
        "plt.suptitle(f\"Comparison (latent dim = {latent_dim})\", fontsize=16)\n",
        "plt.show()\n",
        "\n",
        "# 5. Brief performance comparison\n",
        "print(\"Final validation loss — basic AE:\", history_bae.history['val_loss'][-1])\n",
        "print(\"Final validation loss — denoising AE:\", history_dae.history['val_loss'][-1])\n"
      ],
      "metadata": {
        "colab": {
          "base_uri": "https://localhost:8080/",
          "height": 1000
        },
        "id": "swlJHh9uZUxy",
        "outputId": "3d618124-281b-482b-c2be-5f129a6fd68a"
      },
      "execution_count": 2,
      "outputs": [
        {
          "output_type": "stream",
          "name": "stdout",
          "text": [
            "Epoch 1/20\n",
            "235/235 - 3s - 13ms/step - loss: 0.2837 - val_loss: 0.2230\n",
            "Epoch 2/20\n",
            "235/235 - 1s - 5ms/step - loss: 0.1967 - val_loss: 0.1788\n",
            "Epoch 3/20\n",
            "235/235 - 1s - 5ms/step - loss: 0.1714 - val_loss: 0.1620\n",
            "Epoch 4/20\n",
            "235/235 - 1s - 5ms/step - loss: 0.1577 - val_loss: 0.1508\n",
            "Epoch 5/20\n",
            "235/235 - 1s - 5ms/step - loss: 0.1458 - val_loss: 0.1399\n",
            "Epoch 6/20\n",
            "235/235 - 1s - 5ms/step - loss: 0.1388 - val_loss: 0.1352\n",
            "Epoch 7/20\n",
            "235/235 - 1s - 5ms/step - loss: 0.1349 - val_loss: 0.1321\n",
            "Epoch 8/20\n",
            "235/235 - 1s - 3ms/step - loss: 0.1320 - val_loss: 0.1298\n",
            "Epoch 9/20\n",
            "235/235 - 1s - 4ms/step - loss: 0.1300 - val_loss: 0.1282\n",
            "Epoch 10/20\n",
            "235/235 - 1s - 5ms/step - loss: 0.1287 - val_loss: 0.1272\n",
            "Epoch 11/20\n",
            "235/235 - 1s - 3ms/step - loss: 0.1277 - val_loss: 0.1265\n",
            "Epoch 12/20\n",
            "235/235 - 1s - 5ms/step - loss: 0.1271 - val_loss: 0.1260\n",
            "Epoch 13/20\n",
            "235/235 - 1s - 6ms/step - loss: 0.1267 - val_loss: 0.1257\n",
            "Epoch 14/20\n",
            "235/235 - 1s - 3ms/step - loss: 0.1264 - val_loss: 0.1254\n",
            "Epoch 15/20\n",
            "235/235 - 1s - 3ms/step - loss: 0.1261 - val_loss: 0.1252\n",
            "Epoch 16/20\n",
            "235/235 - 1s - 5ms/step - loss: 0.1259 - val_loss: 0.1252\n",
            "Epoch 17/20\n",
            "235/235 - 1s - 3ms/step - loss: 0.1257 - val_loss: 0.1249\n",
            "Epoch 18/20\n",
            "235/235 - 1s - 5ms/step - loss: 0.1256 - val_loss: 0.1248\n",
            "Epoch 19/20\n",
            "235/235 - 1s - 5ms/step - loss: 0.1254 - val_loss: 0.1247\n",
            "Epoch 20/20\n",
            "235/235 - 1s - 6ms/step - loss: 0.1253 - val_loss: 0.1245\n",
            "Epoch 1/20\n",
            "235/235 - 3s - 11ms/step - loss: 0.2738 - val_loss: 0.1874\n",
            "Epoch 2/20\n",
            "235/235 - 1s - 6ms/step - loss: 0.1697 - val_loss: 0.1526\n",
            "Epoch 3/20\n",
            "235/235 - 1s - 5ms/step - loss: 0.1435 - val_loss: 0.1332\n",
            "Epoch 4/20\n",
            "235/235 - 1s - 5ms/step - loss: 0.1281 - val_loss: 0.1209\n",
            "Epoch 5/20\n",
            "235/235 - 1s - 3ms/step - loss: 0.1180 - val_loss: 0.1127\n",
            "Epoch 6/20\n",
            "235/235 - 1s - 3ms/step - loss: 0.1109 - val_loss: 0.1068\n",
            "Epoch 7/20\n",
            "235/235 - 1s - 6ms/step - loss: 0.1058 - val_loss: 0.1026\n",
            "Epoch 8/20\n",
            "235/235 - 1s - 5ms/step - loss: 0.1020 - val_loss: 0.0992\n",
            "Epoch 9/20\n",
            "235/235 - 1s - 5ms/step - loss: 0.0992 - val_loss: 0.0968\n",
            "Epoch 10/20\n",
            "235/235 - 1s - 3ms/step - loss: 0.0973 - val_loss: 0.0954\n",
            "Epoch 11/20\n",
            "235/235 - 1s - 5ms/step - loss: 0.0961 - val_loss: 0.0944\n",
            "Epoch 12/20\n",
            "235/235 - 1s - 5ms/step - loss: 0.0954 - val_loss: 0.0937\n",
            "Epoch 13/20\n",
            "235/235 - 1s - 5ms/step - loss: 0.0948 - val_loss: 0.0933\n",
            "Epoch 14/20\n",
            "235/235 - 1s - 5ms/step - loss: 0.0945 - val_loss: 0.0930\n",
            "Epoch 15/20\n",
            "235/235 - 1s - 5ms/step - loss: 0.0942 - val_loss: 0.0928\n",
            "Epoch 16/20\n",
            "235/235 - 1s - 5ms/step - loss: 0.0940 - val_loss: 0.0927\n",
            "Epoch 17/20\n",
            "235/235 - 1s - 5ms/step - loss: 0.0938 - val_loss: 0.0925\n",
            "Epoch 18/20\n",
            "235/235 - 1s - 6ms/step - loss: 0.0937 - val_loss: 0.0923\n",
            "Epoch 19/20\n",
            "235/235 - 1s - 5ms/step - loss: 0.0936 - val_loss: 0.0923\n",
            "Epoch 20/20\n",
            "235/235 - 1s - 5ms/step - loss: 0.0935 - val_loss: 0.0922\n",
            "\u001b[1m1/1\u001b[0m \u001b[32m━━━━━━━━━━━━━━━━━━━━\u001b[0m\u001b[37m\u001b[0m \u001b[1m0s\u001b[0m 104ms/step\n",
            "\u001b[1m1/1\u001b[0m \u001b[32m━━━━━━━━━━━━━━━━━━━━\u001b[0m\u001b[37m\u001b[0m \u001b[1m0s\u001b[0m 107ms/step\n"
          ]
        },
        {
          "output_type": "display_data",
          "data": {
            "text/plain": [
              "<Figure size 1800x600 with 30 Axes>"
            ],
            "image/png": "[encoded data removed]"
          },
          "metadata": {}
        },
        {
          "output_type": "stream",
          "name": "stdout",
          "text": [
            "Final validation loss — basic AE: 0.09220854192972183\n",
            "Final validation loss — denoising AE: 0.1245187371969223\n"
          ]
        }
      ]
    },
    {
      "cell_type": "code",
      "source": [
        "import tensorflow as tf\n",
        "import numpy as np\n",
        "import os\n",
        "\n",
        "# 1) Download & load the text\n",
        "path = tf.keras.utils.get_file(\n",
        "    \"shakespeare.txt\",\n",
        "    \"https://storage.googleapis.com/download.tensorflow.org/data/shakespeare.txt\"\n",
        ")\n",
        "text = open(path, \"r\", encoding=\"utf-8\").read()\n",
        "print(f\"Corpus length: {len(text)} characters\")\n",
        "\n",
        "# 2) Create character ↔ index mapping\n",
        "vocab = sorted(set(text))\n",
        "char2idx = {c:i for i,c in enumerate(vocab)}\n",
        "idx2char = np.array(vocab)\n",
        "vocab_size = len(vocab)\n",
        "print(f\"Vocab size: {vocab_size}\")\n",
        "\n",
        "# Convert full text to int sequence\n",
        "text_as_int = np.array([char2idx[c] for c in text], dtype=np.int32)\n",
        "\n",
        "# 2) Prepare training examples / targets\n",
        "seq_length = 100\n",
        "examples_per_epoch = len(text)//(seq_length+1)\n",
        "\n",
        "char_dataset = tf.data.Dataset.from_tensor_slices(text_as_int)\n",
        "\n",
        "# group into sequences of length seq_length+1\n",
        "sequences = char_dataset.batch(seq_length+1, drop_remainder=True)\n",
        "\n",
        "def split_input_target(chunk):\n",
        "    # input: first seq_length chars, target: next char\n",
        "    return chunk[:-1], chunk[1:]\n",
        "\n",
        "dataset = sequences.map(split_input_target)\n",
        "\n",
        "# Batch and shuffle\n",
        "BATCH_SIZE = 64\n",
        "BUFFER_SIZE = 10000\n",
        "\n",
        "dataset = (dataset\n",
        "           .shuffle(BUFFER_SIZE)\n",
        "           .batch(BATCH_SIZE, drop_remainder=True)\n",
        "           .prefetch(tf.data.AUTOTUNE)\n",
        "          )\n",
        "\n",
        "# 3) Build the LSTM model\n",
        "embedding_dim = 256\n",
        "rnn_units = 1024\n",
        "\n",
        "def build_model(vocab_size, embedding_dim, rnn_units, batch_size):\n",
        "    inputs = tf.keras.Input(shape=(None,), batch_size=batch_size)\n",
        "    x = tf.keras.layers.Embedding(vocab_size, embedding_dim)(inputs)\n",
        "    x = tf.keras.layers.LSTM(rnn_units,\n",
        "                             return_sequences=True,\n",
        "                             #stateful=True,\n",
        "                             recurrent_initializer='glorot_uniform')(x)\n",
        "    outputs = tf.keras.layers.Dense(vocab_size)(x)\n",
        "    return tf.keras.Model(inputs, outputs)\n",
        "\n",
        "model = build_model(vocab_size, embedding_dim, rnn_units, batch_size=BATCH_SIZE)\n",
        "model.summary()\n",
        "\n",
        "# Compile\n",
        "model.compile(\n",
        "    optimizer='adam',\n",
        "    loss=tf.keras.losses.SparseCategoricalCrossentropy(from_logits=True)\n",
        ")\n",
        "\n",
        "# 4) Train the model\n",
        "EPOCHS = 20\n",
        "history = model.fit(dataset, epochs=EPOCHS)\n",
        "\n",
        "# To generate, rebuild the model with batch_size=1 and load the weights\n",
        "gen_model = build_model(vocab_size, embedding_dim, rnn_units, batch_size=1)\n",
        "gen_model.set_weights(model.get_weights())\n",
        "\n",
        "# 4) Text generation with temperature\n",
        "def generate_text(model, start_string, num_generate=500, temperature=1.0):\n",
        "    input_eval = [char2idx[s] for s in start_string]\n",
        "    input_eval = tf.expand_dims(input_eval, 0)   # shape (1, len(start_string))\n",
        "    text_generated = []\n",
        "\n",
        "    #model.reset_states()\n",
        "    for _ in range(num_generate):\n",
        "        # predict next-char logits\n",
        "        logits = model(input_eval)               # shape (1, seq_len, vocab)\n",
        "        logits = logits[:, -1, :]                # take last time step: (1, vocab)\n",
        "\n",
        "        # apply temperature\n",
        "        logits = logits / temperature\n",
        "\n",
        "        # sample from the distribution\n",
        "        probs = tf.nn.softmax(logits)\n",
        "        predicted_id = tf.random.categorical(tf.math.log(probs), num_samples=1)[0,0].numpy()\n",
        "\n",
        "        # append and feed back\n",
        "        text_generated.append(idx2char[predicted_id])\n",
        "        input_eval = tf.expand_dims([predicted_id], 0)\n",
        "\n",
        "    return start_string + \"\".join(text_generated)\n",
        "\n",
        "print(generate_text(gen_model, start_string=\"ROMEO: \", num_generate=300, temperature=0.8))\n"
      ],
      "metadata": {
        "colab": {
          "base_uri": "https://localhost:8080/",
          "height": 1000
        },
        "id": "H3AnJC7VZ1j5",
        "outputId": "6d93d7a3-7410-4ebe-8bae-a1e3048a0b05"
      },
      "execution_count": 4,
      "outputs": [
        {
          "output_type": "stream",
          "name": "stdout",
          "text": [
            "Corpus length: 1115394 characters\n",
            "Vocab size: 65\n"
          ]
        },
        {
          "output_type": "display_data",
          "data": {
            "text/plain": [
              "\u001b[1mModel: \"functional_4\"\u001b[0m\n"
            ],
            "text/html": [
              "<pre style=\"white-space:pre;overflow-x:auto;line-height:normal;font-family:Menlo,'DejaVu Sans Mono',consolas,'Courier New',monospace\"><span style=\"font-weight: bold\">Model: \"functional_4\"</span>\n",
              "</pre>\n"
            ]
          },
          "metadata": {}
        },
        {
          "output_type": "display_data",
          "data": {
            "text/plain": [
              "┏━━━━━━━━━━━━━━━━━━━━━━━━━━━━━━━━━┳━━━━━━━━━━━━━━━━━━━━━━━━┳━━━━━━━━━━━━━━━┓\n",
              "┃\u001b[1m \u001b[0m\u001b[1mLayer (type)                   \u001b[0m\u001b[1m \u001b[0m┃\u001b[1m \u001b[0m\u001b[1mOutput Shape          \u001b[0m\u001b[1m \u001b[0m┃\u001b[1m \u001b[0m\u001b[1m      Param #\u001b[0m\u001b[1m \u001b[0m┃\n",
              "┡━━━━━━━━━━━━━━━━━━━━━━━━━━━━━━━━━╇━━━━━━━━━━━━━━━━━━━━━━━━╇━━━━━━━━━━━━━━━┩\n",
              "│ input_layer_5 (\u001b[38;5;33mInputLayer\u001b[0m)      │ (\u001b[38;5;34m64\u001b[0m, \u001b[38;5;45mNone\u001b[0m)             │             \u001b[38;5;34m0\u001b[0m │\n",
              "├─────────────────────────────────┼────────────────────────┼───────────────┤\n",
              "│ embedding_2 (\u001b[38;5;33mEmbedding\u001b[0m)         │ (\u001b[38;5;34m64\u001b[0m, \u001b[38;5;45mNone\u001b[0m, \u001b[38;5;34m256\u001b[0m)        │        \u001b[38;5;34m16,640\u001b[0m │\n",
              "├─────────────────────────────────┼────────────────────────┼───────────────┤\n",
              "│ lstm_2 (\u001b[38;5;33mLSTM\u001b[0m)                   │ (\u001b[38;5;34m64\u001b[0m, \u001b[38;5;45mNone\u001b[0m, \u001b[38;5;34m1024\u001b[0m)       │     \u001b[38;5;34m5,246,976\u001b[0m │\n",
              "├─────────────────────────────────┼────────────────────────┼───────────────┤\n",
              "│ dense_8 (\u001b[38;5;33mDense\u001b[0m)                 │ (\u001b[38;5;34m64\u001b[0m, \u001b[38;5;45mNone\u001b[0m, \u001b[38;5;34m65\u001b[0m)         │        \u001b[38;5;34m66,625\u001b[0m │\n",
              "└─────────────────────────────────┴────────────────────────┴───────────────┘\n"
            ],
            "text/html": [
              "<pre style=\"white-space:pre;overflow-x:auto;line-height:normal;font-family:Menlo,'DejaVu Sans Mono',consolas,'Courier New',monospace\">┏━━━━━━━━━━━━━━━━━━━━━━━━━━━━━━━━━┳━━━━━━━━━━━━━━━━━━━━━━━━┳━━━━━━━━━━━━━━━┓\n",
              "┃<span style=\"font-weight: bold\"> Layer (type)                    </span>┃<span style=\"font-weight: bold\"> Output Shape           </span>┃<span style=\"font-weight: bold\">       Param # </span>┃\n",
              "┡━━━━━━━━━━━━━━━━━━━━━━━━━━━━━━━━━╇━━━━━━━━━━━━━━━━━━━━━━━━╇━━━━━━━━━━━━━━━┩\n",
              "│ input_layer_5 (<span style=\"color: #0087ff; text-decoration-color: #0087ff\">InputLayer</span>)      │ (<span style=\"color: #00af00; text-decoration-color: #00af00\">64</span>, <span style=\"color: #00d7ff; text-decoration-color: #00d7ff\">None</span>)             │             <span style=\"color: #00af00; text-decoration-color: #00af00\">0</span> │\n",
              "├─────────────────────────────────┼────────────────────────┼───────────────┤\n",
              "│ embedding_2 (<span style=\"color: #0087ff; text-decoration-color: #0087ff\">Embedding</span>)         │ (<span style=\"color: #00af00; text-decoration-color: #00af00\">64</span>, <span style=\"color: #00d7ff; text-decoration-color: #00d7ff\">None</span>, <span style=\"color: #00af00; text-decoration-color: #00af00\">256</span>)        │        <span style=\"color: #00af00; text-decoration-color: #00af00\">16,640</span> │\n",
              "├─────────────────────────────────┼────────────────────────┼───────────────┤\n",
              "│ lstm_2 (<span style=\"color: #0087ff; text-decoration-color: #0087ff\">LSTM</span>)                   │ (<span style=\"color: #00af00; text-decoration-color: #00af00\">64</span>, <span style=\"color: #00d7ff; text-decoration-color: #00d7ff\">None</span>, <span style=\"color: #00af00; text-decoration-color: #00af00\">1024</span>)       │     <span style=\"color: #00af00; text-decoration-color: #00af00\">5,246,976</span> │\n",
              "├─────────────────────────────────┼────────────────────────┼───────────────┤\n",
              "│ dense_8 (<span style=\"color: #0087ff; text-decoration-color: #0087ff\">Dense</span>)                 │ (<span style=\"color: #00af00; text-decoration-color: #00af00\">64</span>, <span style=\"color: #00d7ff; text-decoration-color: #00d7ff\">None</span>, <span style=\"color: #00af00; text-decoration-color: #00af00\">65</span>)         │        <span style=\"color: #00af00; text-decoration-color: #00af00\">66,625</span> │\n",
              "└─────────────────────────────────┴────────────────────────┴───────────────┘\n",
              "</pre>\n"
            ]
          },
          "metadata": {}
        },
        {
          "output_type": "display_data",
          "data": {
            "text/plain": [
              "\u001b[1m Total params: \u001b[0m\u001b[38;5;34m5,330,241\u001b[0m (20.33 MB)\n"
            ],
            "text/html": [
              "<pre style=\"white-space:pre;overflow-x:auto;line-height:normal;font-family:Menlo,'DejaVu Sans Mono',consolas,'Courier New',monospace\"><span style=\"font-weight: bold\"> Total params: </span><span style=\"color: #00af00; text-decoration-color: #00af00\">5,330,241</span> (20.33 MB)\n",
              "</pre>\n"
            ]
          },
          "metadata": {}
        },
        {
          "output_type": "display_data",
          "data": {
            "text/plain": [
              "\u001b[1m Trainable params: \u001b[0m\u001b[38;5;34m5,330,241\u001b[0m (20.33 MB)\n"
            ],
            "text/html": [
              "<pre style=\"white-space:pre;overflow-x:auto;line-height:normal;font-family:Menlo,'DejaVu Sans Mono',consolas,'Courier New',monospace\"><span style=\"font-weight: bold\"> Trainable params: </span><span style=\"color: #00af00; text-decoration-color: #00af00\">5,330,241</span> (20.33 MB)\n",
              "</pre>\n"
            ]
          },
          "metadata": {}
        },
        {
          "output_type": "display_data",
          "data": {
            "text/plain": [
              "\u001b[1m Non-trainable params: \u001b[0m\u001b[38;5;34m0\u001b[0m (0.00 B)\n"
            ],
            "text/html": [
              "<pre style=\"white-space:pre;overflow-x:auto;line-height:normal;font-family:Menlo,'DejaVu Sans Mono',consolas,'Courier New',monospace\"><span style=\"font-weight: bold\"> Non-trainable params: </span><span style=\"color: #00af00; text-decoration-color: #00af00\">0</span> (0.00 B)\n",
              "</pre>\n"
            ]
          },
          "metadata": {}
        },
        {
          "output_type": "stream",
          "name": "stdout",
          "text": [
            "Epoch 1/20\n",
            "\u001b[1m172/172\u001b[0m \u001b[32m━━━━━━━━━━━━━━━━━━━━\u001b[0m\u001b[37m\u001b[0m \u001b[1m16s\u001b[0m 71ms/step - loss: 2.8908\n",
            "Epoch 2/20\n",
            "\u001b[1m172/172\u001b[0m \u001b[32m━━━━━━━━━━━━━━━━━━━━\u001b[0m\u001b[37m\u001b[0m \u001b[1m14s\u001b[0m 74ms/step - loss: 1.8522\n",
            "Epoch 3/20\n",
            "\u001b[1m172/172\u001b[0m \u001b[32m━━━━━━━━━━━━━━━━━━━━\u001b[0m\u001b[37m\u001b[0m \u001b[1m21s\u001b[0m 75ms/step - loss: 1.5867\n",
            "Epoch 4/20\n",
            "\u001b[1m172/172\u001b[0m \u001b[32m━━━━━━━━━━━━━━━━━━━━\u001b[0m\u001b[37m\u001b[0m \u001b[1m20s\u001b[0m 74ms/step - loss: 1.4574\n",
            "Epoch 5/20\n",
            "\u001b[1m172/172\u001b[0m \u001b[32m━━━━━━━━━━━━━━━━━━━━\u001b[0m\u001b[37m\u001b[0m \u001b[1m14s\u001b[0m 73ms/step - loss: 1.3728\n",
            "Epoch 6/20\n",
            "\u001b[1m172/172\u001b[0m \u001b[32m━━━━━━━━━━━━━━━━━━━━\u001b[0m\u001b[37m\u001b[0m \u001b[1m14s\u001b[0m 73ms/step - loss: 1.3121\n",
            "Epoch 7/20\n",
            "\u001b[1m172/172\u001b[0m \u001b[32m━━━━━━━━━━━━━━━━━━━━\u001b[0m\u001b[37m\u001b[0m \u001b[1m15s\u001b[0m 72ms/step - loss: 1.2620\n",
            "Epoch 8/20\n",
            "\u001b[1m172/172\u001b[0m \u001b[32m━━━━━━━━━━━━━━━━━━━━\u001b[0m\u001b[37m\u001b[0m \u001b[1m14s\u001b[0m 73ms/step - loss: 1.2213\n",
            "Epoch 9/20\n",
            "\u001b[1m172/172\u001b[0m \u001b[32m━━━━━━━━━━━━━━━━━━━━\u001b[0m\u001b[37m\u001b[0m \u001b[1m14s\u001b[0m 73ms/step - loss: 1.1790\n",
            "Epoch 10/20\n",
            "\u001b[1m172/172\u001b[0m \u001b[32m━━━━━━━━━━━━━━━━━━━━\u001b[0m\u001b[37m\u001b[0m \u001b[1m14s\u001b[0m 73ms/step - loss: 1.1347\n",
            "Epoch 11/20\n",
            "\u001b[1m172/172\u001b[0m \u001b[32m━━━━━━━━━━━━━━━━━━━━\u001b[0m\u001b[37m\u001b[0m \u001b[1m20s\u001b[0m 72ms/step - loss: 1.0920\n",
            "Epoch 12/20\n",
            "\u001b[1m172/172\u001b[0m \u001b[32m━━━━━━━━━━━━━━━━━━━━\u001b[0m\u001b[37m\u001b[0m \u001b[1m15s\u001b[0m 76ms/step - loss: 1.0503\n",
            "Epoch 13/20\n",
            "\u001b[1m172/172\u001b[0m \u001b[32m━━━━━━━━━━━━━━━━━━━━\u001b[0m\u001b[37m\u001b[0m \u001b[1m14s\u001b[0m 74ms/step - loss: 1.0034\n",
            "Epoch 14/20\n",
            "\u001b[1m172/172\u001b[0m \u001b[32m━━━━━━━━━━━━━━━━━━━━\u001b[0m\u001b[37m\u001b[0m \u001b[1m20s\u001b[0m 72ms/step - loss: 0.9559\n",
            "Epoch 15/20\n",
            "\u001b[1m172/172\u001b[0m \u001b[32m━━━━━━━━━━━━━━━━━━━━\u001b[0m\u001b[37m\u001b[0m \u001b[1m14s\u001b[0m 74ms/step - loss: 0.9019\n",
            "Epoch 16/20\n",
            "\u001b[1m172/172\u001b[0m \u001b[32m━━━━━━━━━━━━━━━━━━━━\u001b[0m\u001b[37m\u001b[0m \u001b[1m16s\u001b[0m 75ms/step - loss: 0.8512\n",
            "Epoch 17/20\n",
            "\u001b[1m172/172\u001b[0m \u001b[32m━━━━━━━━━━━━━━━━━━━━\u001b[0m\u001b[37m\u001b[0m \u001b[1m14s\u001b[0m 74ms/step - loss: 0.7986\n",
            "Epoch 18/20\n",
            "\u001b[1m172/172\u001b[0m \u001b[32m━━━━━━━━━━━━━━━━━━━━\u001b[0m\u001b[37m\u001b[0m \u001b[1m21s\u001b[0m 73ms/step - loss: 0.7447\n",
            "Epoch 19/20\n",
            "\u001b[1m172/172\u001b[0m \u001b[32m━━━━━━━━━━━━━━━━━━━━\u001b[0m\u001b[37m\u001b[0m \u001b[1m20s\u001b[0m 75ms/step - loss: 0.6954\n",
            "Epoch 20/20\n",
            "\u001b[1m172/172\u001b[0m \u001b[32m━━━━━━━━━━━━━━━━━━━━\u001b[0m\u001b[37m\u001b[0m \u001b[1m21s\u001b[0m 75ms/step - loss: 0.6472\n",
            "ROMEO: y then ain melayo thon peer t nghasts\n",
            "CHe llle serereg as theratll amagh!\n",
            "Anoceng trendowin, w,\n",
            "NUGORDUSCE herd t athithangerollimands thy ileghers tlier t, s st thabathen icond fo my athon han trsen\n",
            "Thant,\n",
            "Afanothanor g t ttonckios\n",
            "AUMICAnthot, brte de the te, bande PERIURD t t ICroulenimat yothind\n"
          ]
        }
      ]
    },
    {
      "cell_type": "code",
      "source": [
        "import numpy as np\n",
        "import tensorflow as tf\n",
        "from tensorflow.keras.datasets import imdb\n",
        "from tensorflow.keras.preprocessing.sequence import pad_sequences\n",
        "from tensorflow.keras.models import Sequential\n",
        "from tensorflow.keras.layers import Embedding, LSTM, Dense, Dropout\n",
        "from sklearn.metrics import confusion_matrix, classification_report\n",
        "\n",
        "# 1. Load IMDB dataset (keep top 10 000 words)\n",
        "VOCAB_SIZE = 10000\n",
        "MAX_LEN    = 200  # max words per review\n",
        "\n",
        "(x_train, y_train), (x_test, y_test) = imdb.load_data(num_words=VOCAB_SIZE)\n",
        "\n",
        "# 2. Tokenization is already done; just pad/truncate\n",
        "x_train = pad_sequences(x_train, maxlen=MAX_LEN, padding='post', truncating='post')\n",
        "x_test  = pad_sequences(x_test,  maxlen=MAX_LEN, padding='post', truncating='post')\n",
        "\n",
        "# 3. Build LSTM classifier\n",
        "model = Sequential([\n",
        "    Embedding(input_dim=VOCAB_SIZE, output_dim=128, input_length=MAX_LEN),\n",
        "    LSTM(64, return_sequences=False),\n",
        "    Dropout(0.5),\n",
        "    Dense(1, activation='sigmoid')\n",
        "])\n",
        "\n",
        "model.compile(\n",
        "    loss='binary_crossentropy',\n",
        "    optimizer='adam',\n",
        "    metrics=['accuracy']\n",
        ")\n",
        "\n",
        "model.summary()\n",
        "\n",
        "# Train\n",
        "EPOCHS     = 5\n",
        "BATCH_SIZE = 64\n",
        "\n",
        "history = model.fit(\n",
        "    x_train, y_train,\n",
        "    epochs=EPOCHS,\n",
        "    batch_size=BATCH_SIZE,\n",
        "    validation_split=0.2,\n",
        "    verbose=2\n",
        ")\n",
        "\n",
        "# 4. Predict on test set\n",
        "y_pred_prob = model.predict(x_test, batch_size= BATCH_SIZE)\n",
        "y_pred = (y_pred_prob > 0.5).astype(int).flatten()\n",
        "\n",
        "# Confusion matrix & classification report\n",
        "cm = confusion_matrix(y_test, y_pred)\n",
        "print(\"Confusion Matrix:\\n\", cm)\n",
        "\n",
        "report = classification_report(y_test, y_pred, target_names=['neg','pos'])\n",
        "print(\"\\nClassification Report:\\n\", report)\n"
      ],
      "metadata": {
        "colab": {
          "base_uri": "https://localhost:8080/",
          "height": 802
        },
        "id": "mMOqAJRSaIGE",
        "outputId": "1a9db133-0102-4cab-83d2-2edafa091329"
      },
      "execution_count": 5,
      "outputs": [
        {
          "output_type": "stream",
          "name": "stdout",
          "text": [
            "Downloading data from https://storage.googleapis.com/tensorflow/tf-keras-datasets/imdb.npz\n",
            "\u001b[1m17464789/17464789\u001b[0m \u001b[32m━━━━━━━━━━━━━━━━━━━━\u001b[0m\u001b[37m\u001b[0m \u001b[1m0s\u001b[0m 0us/step\n"
          ]
        },
        {
          "output_type": "stream",
          "name": "stderr",
          "text": [
            "/usr/local/lib/python3.11/dist-packages/keras/src/layers/core/embedding.py:90: UserWarning: Argument `input_length` is deprecated. Just remove it.\n",
            "  warnings.warn(\n"
          ]
        },
        {
          "output_type": "display_data",
          "data": {
            "text/plain": [
              "\u001b[1mModel: \"sequential\"\u001b[0m\n"
            ],
            "text/html": [
              "<pre style=\"white-space:pre;overflow-x:auto;line-height:normal;font-family:Menlo,'DejaVu Sans Mono',consolas,'Courier New',monospace\"><span style=\"font-weight: bold\">Model: \"sequential\"</span>\n",
              "</pre>\n"
            ]
          },
          "metadata": {}
        },
        {
          "output_type": "display_data",
          "data": {
            "text/plain": [
              "┏━━━━━━━━━━━━━━━━━━━━━━━━━━━━━━━━━┳━━━━━━━━━━━━━━━━━━━━━━━━┳━━━━━━━━━━━━━━━┓\n",
              "┃\u001b[1m \u001b[0m\u001b[1mLayer (type)                   \u001b[0m\u001b[1m \u001b[0m┃\u001b[1m \u001b[0m\u001b[1mOutput Shape          \u001b[0m\u001b[1m \u001b[0m┃\u001b[1m \u001b[0m\u001b[1m      Param #\u001b[0m\u001b[1m \u001b[0m┃\n",
              "┡━━━━━━━━━━━━━━━━━━━━━━━━━━━━━━━━━╇━━━━━━━━━━━━━━━━━━━━━━━━╇━━━━━━━━━━━━━━━┩\n",
              "│ embedding_4 (\u001b[38;5;33mEmbedding\u001b[0m)         │ ?                      │   \u001b[38;5;34m0\u001b[0m (unbuilt) │\n",
              "├─────────────────────────────────┼────────────────────────┼───────────────┤\n",
              "│ lstm_4 (\u001b[38;5;33mLSTM\u001b[0m)                   │ ?                      │   \u001b[38;5;34m0\u001b[0m (unbuilt) │\n",
              "├─────────────────────────────────┼────────────────────────┼───────────────┤\n",
              "│ dropout (\u001b[38;5;33mDropout\u001b[0m)               │ ?                      │             \u001b[38;5;34m0\u001b[0m │\n",
              "├─────────────────────────────────┼────────────────────────┼───────────────┤\n",
              "│ dense_10 (\u001b[38;5;33mDense\u001b[0m)                │ ?                      │   \u001b[38;5;34m0\u001b[0m (unbuilt) │\n",
              "└─────────────────────────────────┴────────────────────────┴───────────────┘\n"
            ],
            "text/html": [
              "<pre style=\"white-space:pre;overflow-x:auto;line-height:normal;font-family:Menlo,'DejaVu Sans Mono',consolas,'Courier New',monospace\">┏━━━━━━━━━━━━━━━━━━━━━━━━━━━━━━━━━┳━━━━━━━━━━━━━━━━━━━━━━━━┳━━━━━━━━━━━━━━━┓\n",
              "┃<span style=\"font-weight: bold\"> Layer (type)                    </span>┃<span style=\"font-weight: bold\"> Output Shape           </span>┃<span style=\"font-weight: bold\">       Param # </span>┃\n",
              "┡━━━━━━━━━━━━━━━━━━━━━━━━━━━━━━━━━╇━━━━━━━━━━━━━━━━━━━━━━━━╇━━━━━━━━━━━━━━━┩\n",
              "│ embedding_4 (<span style=\"color: #0087ff; text-decoration-color: #0087ff\">Embedding</span>)         │ ?                      │   <span style=\"color: #00af00; text-decoration-color: #00af00\">0</span> (unbuilt) │\n",
              "├─────────────────────────────────┼────────────────────────┼───────────────┤\n",
              "│ lstm_4 (<span style=\"color: #0087ff; text-decoration-color: #0087ff\">LSTM</span>)                   │ ?                      │   <span style=\"color: #00af00; text-decoration-color: #00af00\">0</span> (unbuilt) │\n",
              "├─────────────────────────────────┼────────────────────────┼───────────────┤\n",
              "│ dropout (<span style=\"color: #0087ff; text-decoration-color: #0087ff\">Dropout</span>)               │ ?                      │             <span style=\"color: #00af00; text-decoration-color: #00af00\">0</span> │\n",
              "├─────────────────────────────────┼────────────────────────┼───────────────┤\n",
              "│ dense_10 (<span style=\"color: #0087ff; text-decoration-color: #0087ff\">Dense</span>)                │ ?                      │   <span style=\"color: #00af00; text-decoration-color: #00af00\">0</span> (unbuilt) │\n",
              "└─────────────────────────────────┴────────────────────────┴───────────────┘\n",
              "</pre>\n"
            ]
          },
          "metadata": {}
        },
        {
          "output_type": "display_data",
          "data": {
            "text/plain": [
              "\u001b[1m Total params: \u001b[0m\u001b[38;5;34m0\u001b[0m (0.00 B)\n"
            ],
            "text/html": [
              "<pre style=\"white-space:pre;overflow-x:auto;line-height:normal;font-family:Menlo,'DejaVu Sans Mono',consolas,'Courier New',monospace\"><span style=\"font-weight: bold\"> Total params: </span><span style=\"color: #00af00; text-decoration-color: #00af00\">0</span> (0.00 B)\n",
              "</pre>\n"
            ]
          },
          "metadata": {}
        },
        {
          "output_type": "display_data",
          "data": {
            "text/plain": [
              "\u001b[1m Trainable params: \u001b[0m\u001b[38;5;34m0\u001b[0m (0.00 B)\n"
            ],
            "text/html": [
              "<pre style=\"white-space:pre;overflow-x:auto;line-height:normal;font-family:Menlo,'DejaVu Sans Mono',consolas,'Courier New',monospace\"><span style=\"font-weight: bold\"> Trainable params: </span><span style=\"color: #00af00; text-decoration-color: #00af00\">0</span> (0.00 B)\n",
              "</pre>\n"
            ]
          },
          "metadata": {}
        },
        {
          "output_type": "display_data",
          "data": {
            "text/plain": [
              "\u001b[1m Non-trainable params: \u001b[0m\u001b[38;5;34m0\u001b[0m (0.00 B)\n"
            ],
            "text/html": [
              "<pre style=\"white-space:pre;overflow-x:auto;line-height:normal;font-family:Menlo,'DejaVu Sans Mono',consolas,'Courier New',monospace\"><span style=\"font-weight: bold\"> Non-trainable params: </span><span style=\"color: #00af00; text-decoration-color: #00af00\">0</span> (0.00 B)\n",
              "</pre>\n"
            ]
          },
          "metadata": {}
        },
        {
          "output_type": "stream",
          "name": "stdout",
          "text": [
            "Epoch 1/5\n",
            "313/313 - 7s - 22ms/step - accuracy: 0.5320 - loss: 0.6895 - val_accuracy: 0.5512 - val_loss: 0.6799\n",
            "Epoch 2/5\n",
            "313/313 - 9s - 27ms/step - accuracy: 0.5932 - loss: 0.6688 - val_accuracy: 0.6034 - val_loss: 0.6335\n",
            "Epoch 3/5\n",
            "313/313 - 3s - 11ms/step - accuracy: 0.6345 - loss: 0.6149 - val_accuracy: 0.5700 - val_loss: 0.6917\n",
            "Epoch 4/5\n",
            "313/313 - 5s - 17ms/step - accuracy: 0.7477 - loss: 0.5429 - val_accuracy: 0.8056 - val_loss: 0.5478\n",
            "Epoch 5/5\n",
            "313/313 - 5s - 16ms/step - accuracy: 0.8364 - loss: 0.4194 - val_accuracy: 0.8224 - val_loss: 0.4357\n",
            "\u001b[1m391/391\u001b[0m \u001b[32m━━━━━━━━━━━━━━━━━━━━\u001b[0m\u001b[37m\u001b[0m \u001b[1m2s\u001b[0m 5ms/step\n",
            "Confusion Matrix:\n",
            " [[10126  2374]\n",
            " [ 2451 10049]]\n",
            "\n",
            "Classification Report:\n",
            "               precision    recall  f1-score   support\n",
            "\n",
            "         neg       0.81      0.81      0.81     12500\n",
            "         pos       0.81      0.80      0.81     12500\n",
            "\n",
            "    accuracy                           0.81     25000\n",
            "   macro avg       0.81      0.81      0.81     25000\n",
            "weighted avg       0.81      0.81      0.81     25000\n",
            "\n"
          ]
        }
      ]
    }
  ]
}